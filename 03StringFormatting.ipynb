{
 "cells": [
  {
   "cell_type": "code",
   "execution_count": 1,
   "metadata": {},
   "outputs": [
    {
     "name": "stdout",
     "output_type": "stream",
     "text": [
      "Vou inserir alguma coisa aqui.\n"
     ]
    }
   ],
   "source": [
    "print('Vou inserir %s aqui.' %'alguma coisa')"
   ]
  },
  {
   "cell_type": "code",
   "execution_count": 2,
   "metadata": {},
   "outputs": [
    {
     "name": "stdout",
     "output_type": "stream",
     "text": [
      "O valor de x é 3.141593\n"
     ]
    }
   ],
   "source": [
    "x = 3.14159265\n",
    "print('O valor de x é %f' %x)"
   ]
  },
  {
   "cell_type": "code",
   "execution_count": 3,
   "metadata": {},
   "outputs": [
    {
     "name": "stdout",
     "output_type": "stream",
     "text": [
      "O valor de x é 3.14\n"
     ]
    }
   ],
   "source": [
    "x = 3.14159265\n",
    "print('O valor de x é %.2f' %x)"
   ]
  },
  {
   "cell_type": "code",
   "execution_count": 4,
   "metadata": {},
   "outputs": [
    {
     "name": "stdout",
     "output_type": "stream",
     "text": [
      "O valor de x é 3.1416\n"
     ]
    }
   ],
   "source": [
    "#veja o arredondamento\n",
    "x = 3.14159265\n",
    "print('O valor de x é %.4f' %x)"
   ]
  },
  {
   "cell_type": "code",
   "execution_count": 5,
   "metadata": {},
   "outputs": [
    {
     "name": "stdout",
     "output_type": "stream",
     "text": [
      "O valor de x é  3.14\n"
     ]
    }
   ],
   "source": [
    "x = 3.14159265\n",
    "print('O valor de x é %5.2f' %x)"
   ]
  },
  {
   "cell_type": "code",
   "execution_count": 6,
   "metadata": {},
   "outputs": [
    {
     "name": "stdout",
     "output_type": "stream",
     "text": [
      "O valor de x é       3.14\n"
     ]
    }
   ],
   "source": [
    "x = 3.14159265\n",
    "print('O valor de x é %10.2f' %x)"
   ]
  },
  {
   "cell_type": "markdown",
   "metadata": {},
   "source": [
    "Formatação com .format()\n"
   ]
  },
  {
   "cell_type": "code",
   "execution_count": 12,
   "metadata": {},
   "outputs": [
    {
     "name": "stdout",
     "output_type": "stream",
     "text": [
      "Vou inserir alguma coisa aqui.\n"
     ]
    }
   ],
   "source": [
    "print('Vou inserir {} aqui.'.format('alguma coisa'))"
   ]
  },
  {
   "cell_type": "code",
   "execution_count": 10,
   "metadata": {},
   "outputs": [
    {
     "name": "stdout",
     "output_type": "stream",
     "text": [
      "vou inserir tres coisas. A primeira, a segunda. e a terceira.\n"
     ]
    }
   ],
   "source": [
    "print('vou inserir tres coisas. A {}, a {}. e a {}.'.format('primeira', 'segunda', 'terceira'))"
   ]
  },
  {
   "cell_type": "code",
   "execution_count": 11,
   "metadata": {},
   "outputs": [
    {
     "name": "stdout",
     "output_type": "stream",
     "text": [
      "vou inserir tres coisas. A terceira, a segunda. e a primeira.\n"
     ]
    }
   ],
   "source": [
    "print('vou inserir tres coisas. A {2}, a {1}. e a {0}.'.format('primeira', 'segunda', 'terceira'))"
   ]
  },
  {
   "cell_type": "code",
   "execution_count": 13,
   "metadata": {},
   "outputs": [
    {
     "name": "stdout",
     "output_type": "stream",
     "text": [
      "fruta    | quantidade\n"
     ]
    }
   ],
   "source": [
    "print('{0:8} | {1:9}'.format('fruta','quantidade'))"
   ]
  },
  {
   "cell_type": "code",
   "execution_count": 16,
   "metadata": {},
   "outputs": [
    {
     "name": "stdout",
     "output_type": "stream",
     "text": [
      "Fruta    | Quantidade\n",
      "Maça     | 03       \n",
      "Laranja  | 10       \n"
     ]
    }
   ],
   "source": [
    "print('{0:8} | {1:9}'.format('Fruta','Quantidade'))\n",
    "print('{0:8} | {1:9}'.format('Maça','03'))\n",
    "print('{0:8} | {1:9}'.format('Laranja','10'))"
   ]
  },
  {
   "cell_type": "markdown",
   "metadata": {},
   "source": [
    "Formatação com f-string\n"
   ]
  },
  {
   "cell_type": "code",
   "execution_count": 17,
   "metadata": {},
   "outputs": [
    {
     "name": "stdout",
     "output_type": "stream",
     "text": [
      "Ele disse que seu nome é José\n"
     ]
    }
   ],
   "source": [
    "nome = 'José'\n",
    "print(f'Ele disse que seu nome é {nome}')"
   ]
  },
  {
   "cell_type": "code",
   "execution_count": 18,
   "metadata": {},
   "outputs": [
    {
     "name": "stdout",
     "output_type": "stream",
     "text": [
      "o numero é    23.4568\n"
     ]
    }
   ],
   "source": [
    "num=23.45678\n",
    "print('o numero é {0:10.4f}'.format(num))"
   ]
  },
  {
   "cell_type": "code",
   "execution_count": 22,
   "metadata": {},
   "outputs": [
    {
     "name": "stdout",
     "output_type": "stream",
     "text": [
      "o numero é    23.4568\n",
      "o numero é    23.4568\n"
     ]
    }
   ],
   "source": [
    "num=23.45678\n",
    "print('o numero é {0:10.4f}'.format(num))\n",
    "print(f'o numero é {num:{10}.{6}}')"
   ]
  },
  {
   "cell_type": "code",
   "execution_count": 23,
   "metadata": {},
   "outputs": [
    {
     "name": "stdout",
     "output_type": "stream",
     "text": [
      "o numero é    23.4500\n",
      "o numero é      23.45\n"
     ]
    }
   ],
   "source": [
    "#f-string nao faz paddiing\n",
    "num=23.45\n",
    "print('o numero é {0:10.4f}'.format(num))\n",
    "print(f'o numero é {num:{10}.{6}}')"
   ]
  },
  {
   "cell_type": "code",
   "execution_count": 24,
   "metadata": {},
   "outputs": [
    {
     "name": "stdout",
     "output_type": "stream",
     "text": [
      "o numero é    23.4500\n",
      "o numero é    23.4500\n"
     ]
    }
   ],
   "source": [
    "#misture com .format()\n",
    "num=23.45\n",
    "print('o numero é {0:10.4f}'.format(num))\n",
    "print(f'o numero é {num:10.4f}')"
   ]
  },
  {
   "cell_type": "code",
   "execution_count": null,
   "metadata": {
    "collapsed": true
   },
   "outputs": [],
   "source": []
  }
 ],
 "metadata": {
  "kernelspec": {
   "display_name": "Python 3",
   "language": "python",
   "name": "python3"
  },
  "language_info": {
   "codemirror_mode": {
    "name": "ipython",
    "version": 3
   },
   "file_extension": ".py",
   "mimetype": "text/x-python",
   "name": "python",
   "nbconvert_exporter": "python",
   "pygments_lexer": "ipython3",
   "version": "3.6.0"
  }
 },
 "nbformat": 4,
 "nbformat_minor": 2
}
